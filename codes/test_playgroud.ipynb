{
 "cells": [
  {
   "cell_type": "code",
   "execution_count": 1,
   "metadata": {},
   "outputs": [
    {
     "name": "stdout",
     "output_type": "stream",
     "text": [
      "[1] printed by T1, time = 1.0124680995941162\n",
      "[8] printed by T2, time = 2.0231106281280518\n",
      "[35] printed by T1, time = 3.0361690521240234\n",
      "[16] printed by T2, time = 4.047127723693848\n",
      "[63] printed by T1, time = 5.0618650913238525\n",
      "[100] printed by T2, time = 6.077131032943726\n",
      "[52] printed by T1, time = 7.088174819946289\n",
      "[76] printed by T2, time = 8.0974760055542\n",
      "[7] printed by T1, time = 9.111796855926514\n",
      "[67] printed by T2, time = 10.12526249885559\n"
     ]
    }
   ],
   "source": [
    "from threading import Thread, Semaphore\n",
    "from random import randint\n",
    "from time import time, sleep\n",
    "\n",
    "def giver():\n",
    "    global cur_source\n",
    "    global Source_list\n",
    "    begin_time = time()\n",
    "    while(time() - begin_time < 10):\n",
    "        sleep(1)\n",
    "        cur_source.append(Source_list[0])\n",
    "        del(Source_list[0])\n",
    "        Source.release()\n",
    "        \n",
    "\n",
    "def T1():\n",
    "    begin_time = time()\n",
    "    while(time() - begin_time < 10):\n",
    "        Source.acquire()\n",
    "        print(cur_source, 'printed by T1, time = {}'.format(time()-begin_time))\n",
    "        del(cur_source[0])\n",
    "    return\n",
    "    \n",
    "def T2():\n",
    "    begin_time = time()\n",
    "    while(time() - begin_time < 10):\n",
    "        Source.acquire()\n",
    "        print(cur_source, 'printed by T2, time = {}'.format(time()-begin_time))\n",
    "        del(cur_source[0])\n",
    "    return\n",
    "\n",
    "\n",
    "\n",
    "if __name__ == '__main__':\n",
    "    Source = Semaphore(0)\n",
    "    Source_list = []\n",
    "\n",
    "    for i in range(20):\n",
    "        Source_list.append(randint(0, 100))\n",
    "\n",
    "    cur_source = []\n",
    "    \n",
    "    p1 = Thread(target=T1)\n",
    "    p2 = Thread(target=T2)\n",
    "    Top = Thread(target=giver)\n",
    "    \n",
    "    p1.start()\n",
    "    p2.start()\n",
    "    Top.start()\n",
    "    \n",
    "    p1.join()\n",
    "    p2.join()\n",
    "    Top.join()"
   ]
  },
  {
   "cell_type": "code",
   "execution_count": null,
   "metadata": {},
   "outputs": [],
   "source": [
    "from random import randint"
   ]
  }
 ],
 "metadata": {
  "kernelspec": {
   "display_name": "base",
   "language": "python",
   "name": "python3"
  },
  "language_info": {
   "codemirror_mode": {
    "name": "ipython",
    "version": 3
   },
   "file_extension": ".py",
   "mimetype": "text/x-python",
   "name": "python",
   "nbconvert_exporter": "python",
   "pygments_lexer": "ipython3",
   "version": "3.8.8"
  },
  "orig_nbformat": 4,
  "vscode": {
   "interpreter": {
    "hash": "88279d2366fe020547cde40dd65aa0e3aa662a6ec1f3ca12d88834876c85e1a6"
   }
  }
 },
 "nbformat": 4,
 "nbformat_minor": 2
}
